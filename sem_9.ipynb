{
  "nbformat": 4,
  "nbformat_minor": 0,
  "metadata": {
    "colab": {
      "provenance": []
    },
    "kernelspec": {
      "name": "python3",
      "display_name": "Python 3"
    },
    "language_info": {
      "name": "python"
    }
  },
  "cells": [
    {
      "cell_type": "markdown",
      "source": [
        "# 1\n",
        "\n",
        "Постройте графики для приведенных наборов данных. Найдите коэффициенты для линии \n",
        "регрессии и коэффициенты детерминации. Что вы замечаете? Нанесите на график модель \n",
        "линейной регрессии.\n",
        "X1= np.array([30,30,40, 40)]\n",
        "Y1= np.array([37, 47, 50, 60)] \n",
        "x2= np.array([30,30,40, 40, 20, 20, 50, 50]) \n",
        "y2= np.array([37, 47, 50, 60, 25, 35, 62, 72]) \n",
        "X3 = np.array([30,30,40, 40, 20, 20, 50, 50, 10, 10, 60, 60]) \n",
        "Y3 = np.array([37, 47, 50, 60, 25, 35, 62, 72, 13, 23, 74, 84])"
      ],
      "metadata": {
        "id": "1Tdfg3NJYczU"
      }
    },
    {
      "cell_type": "code",
      "execution_count": 1,
      "metadata": {
        "colab": {
          "base_uri": "https://localhost:8080/",
          "height": 388
        },
        "id": "CY8tKQFPYZlM",
        "outputId": "ca6f29c7-fd97-45d0-be9c-d9f8240c1ff1"
      },
      "outputs": [
        {
          "output_type": "display_data",
          "data": {
            "text/plain": [
              "<Figure size 1080x360 with 3 Axes>"
            ],
            "image/png": "[encoded data removed]"
          },
          "metadata": {
            "needs_background": "light"
          }
        },
        {
          "output_type": "stream",
          "name": "stdout",
          "text": [
            "Dataset 1: Coefficients = 1.3 , 3.0 R^2 = 0.6282527881040892\n",
            "Dataset 2: Coefficients = 1.2399999999999998 , 5.1000000000000085 R^2 = 0.8846950517836594\n",
            "Dataset 3: Coefficients = 1.2257142857142853 , 5.600000000000016 R^2 = 0.9459101071621309\n"
          ]
        }
      ],
      "source": [
        "import numpy as np\n",
        "import matplotlib.pyplot as plt\n",
        "from sklearn.linear_model import LinearRegression\n",
        "from sklearn.metrics import r2_score\n",
        "\n",
        "# Данные\n",
        "X1 = np.array([30,30,40,40])\n",
        "Y1 = np.array([37,47,50,60])\n",
        "X2 = np.array([30,30,40,40,20,20,50,50])\n",
        "Y2 = np.array([37,47,50,60,25,35,62,72])\n",
        "X3 = np.array([30,30,40,40,20,20,50,50,10,10,60,60])\n",
        "Y3 = np.array([37,47,50,60,25,35,62,72,13,23,74,84])\n",
        "\n",
        "# Функция для построения графика\n",
        "def plot_regression(X, Y, ax, title):\n",
        "    ax.scatter(X, Y)\n",
        "    model = LinearRegression().fit(X.reshape(-1,1), Y)\n",
        "    r_sq = model.score(X.reshape(-1,1), Y)\n",
        "    y_pred = model.predict(X.reshape(-1,1))\n",
        "    ax.plot(X, y_pred, color='red')\n",
        "    ax.set_title(title)\n",
        "    return (model.coef_[0], model.intercept_, r_sq)\n",
        "\n",
        "# Построение графиков и расчет коэффициентов линейной регрессии\n",
        "fig, axs = plt.subplots(1, 3, figsize=(15, 5))\n",
        "\n",
        "coef1 = plot_regression(X1, Y1, axs[0], 'Dataset 1')\n",
        "coef2 = plot_regression(X2, Y2, axs[1], 'Dataset 2')\n",
        "coef3 = plot_regression(X3, Y3, axs[2], 'Dataset 3')\n",
        "\n",
        "plt.show()\n",
        "\n",
        "# Вывод коэффициентов линейной регрессии и коэффициентов детерминации\n",
        "print(\"Dataset 1: Coefficients =\", coef1[0], \",\", coef1[1], \"R^2 =\", coef1[2])\n",
        "print(\"Dataset 2: Coefficients =\", coef2[0], \",\", coef2[1], \"R^2 =\", coef2[2])\n",
        "print(\"Dataset 3: Coefficients =\", coef3[0], \",\", coef3[1], \"R^2 =\", coef3[2])\n"
      ]
    },
    {
      "cell_type": "code",
      "source": [
        "import numpy as np\n",
        "import matplotlib.pyplot as plt\n",
        "from sklearn.linear_model import LinearRegression\n",
        "from sklearn.metrics import r2_score\n",
        "\n",
        "X1 = np.array([30, 30, 40, 40])\n",
        "Y1 = np.array([37, 47, 50, 60])\n",
        "X2 = np.array([30, 30, 40, 40, 20, 20, 50, 50])\n",
        "Y2 = np.array([37, 47, 50, 60, 25, 35, 62, 72])\n",
        "X3 = np.array([30, 30, 40, 40, 20, 20, 50, 50, 10, 10, 60, 60])\n",
        "Y3 = np.array([37, 47, 50, 60, 25, 35, 62, 72, 13, 23, 74, 84])\n",
        "\n",
        "def plot_regression(x, y):\n",
        "    x = x.reshape(-1, 1)\n",
        "    y = y.reshape(-1, 1)\n",
        "\n",
        "    # Обучаем модель линейной регрессии\n",
        "    model = LinearRegression()\n",
        "    model.fit(x, y)\n",
        "\n",
        "    # Предсказываем значения y на основе полученной модели\n",
        "    y_pred = model.predict(x)\n",
        "\n",
        "    # Вычисляем коэффициент детерминации\n",
        "    r2 = r2_score(y, y_pred)\n",
        "\n",
        "    # Выводим результаты\n",
        "    print(f'Коэффициенты линейной регрессии: a={model.intercept_[0]:.4f}, b={model.coef_[0][0]:.4f}')\n",
        "    print(f'Коэффициент детерминации: {r2:.4f}')\n",
        "\n",
        "    # Строим график\n",
        "    plt.scatter(x, y)\n",
        "    plt.plot(x, y_pred, color='red')\n",
        "    plt.xlabel('x')\n",
        "    plt.ylabel('y')\n",
        "    plt.show()\n",
        "\n",
        "plot_regression(X1, Y1)\n",
        "plot_regression(X2, Y2)\n",
        "plot_regression(X3, Y3)\n"
      ],
      "metadata": {
        "colab": {
          "base_uri": "https://localhost:8080/",
          "height": 907
        },
        "id": "aVaPLWshZTSW",
        "outputId": "d70d183e-80e2-45e9-d8f4-4b2936cae4da"
      },
      "execution_count": 2,
      "outputs": [
        {
          "output_type": "stream",
          "name": "stdout",
          "text": [
            "Коэффициенты линейной регрессии: a=3.0000, b=1.3000\n",
            "Коэффициент детерминации: 0.6283\n"
          ]
        },
        {
          "output_type": "display_data",
          "data": {
            "text/plain": [
              "<Figure size 432x288 with 1 Axes>"
            ],
            "image/png": "[encoded data removed]"
          },
          "metadata": {
            "needs_background": "light"
          }
        },
        {
          "output_type": "stream",
          "name": "stdout",
          "text": [
            "Коэффициенты линейной регрессии: a=5.1000, b=1.2400\n",
            "Коэффициент детерминации: 0.8847\n"
          ]
        },
        {
          "output_type": "display_data",
          "data": {
            "text/plain": [
              "<Figure size 432x288 with 1 Axes>"
            ],
            "image/png": "[encoded data removed]"
          },
          "metadata": {
            "needs_background": "light"
          }
        },
        {
          "output_type": "stream",
          "name": "stdout",
          "text": [
            "Коэффициенты линейной регрессии: a=5.6000, b=1.2257\n",
            "Коэффициент детерминации: 0.9459\n"
          ]
        },
        {
          "output_type": "display_data",
          "data": {
            "text/plain": [
              "<Figure size 432x288 with 1 Axes>"
            ],
            "image/png": "[encoded data removed]"
          },
          "metadata": {
            "needs_background": "light"
          }
        }
      ]
    },
    {
      "cell_type": "markdown",
      "source": [
        "# 2 \n",
        "\n",
        "Какой должна быть численность групп, чтобы с вероятностью 90% \n",
        "обнаруживать снижение летальности с 90 до 30%. Уровень \n",
        "значимости α = 0,05. При решении вам пригодятся табличные \n",
        "значения стандартного нормального распределения"
      ],
      "metadata": {
        "id": "-aJnLBHLZtxM"
      }
    },
    {
      "cell_type": "markdown",
      "source": [
        "Для решения этой задачи необходимо воспользоваться формулой для расчёта размера выборки для проверки гипотезы о доле в генеральной совокупности:\n",
        "\n",
        "n = ((Z_α/2 + Z_β) / Δ)^2 * (p̂(1 - p̂))\n",
        "\n",
        "где:\n",
        "Z_α/2 - критическое значение стандартного нормального распределения для уровня значимости α/2\n",
        "Z_β - критическое значение стандартного нормального распределения для мощности теста 1 - β\n",
        "Δ - минимально значимое отклонение от гипотетического значения доли\n",
        "p̂ - выборочная доля\n",
        "\n",
        "Подставляя значения из условия, получим:\n",
        "\n",
        "Δ = 0.9 - 0.3 = 0.6\n",
        "p̂ = (0.9 + 0.3) / 2 = 0.6\n",
        "α = 0.05\n",
        "1 - β = 0.9\n",
        "\n",
        "Так как уровень значимости двусторонний, то α/2 = 0.025.\n",
        "\n",
        "Найдем необходимые критические значения Z_α/2 и Z_β. Для этого воспользуемся таблицей стандартного нормального распределения и найдем значения, соответствующие квантилям 0.025 и 0.9.\n",
        "\n",
        "Z_α/2 = 1.96 (по таблице стандартного нормального распределения)\n",
        "Z_β = 1.28 (по таблице стандартного нормального распределения)\n",
        "\n",
        "Подставляем все значения в формулу и округляем до ближайшего целого числа:\n",
        "\n",
        "n = ((1.96 + 1.28) / 0.6)^2 * (0.6 * 0.4) = 37\n",
        "\n",
        "Таким образом, для обнаружения снижения летальности с 90 до 30% с вероятностью 90% при уровне значимости α = 0.05 необходимо иметь группы по 37 человек."
      ],
      "metadata": {
        "id": "GmI6KkFiZzdL"
      }
    },
    {
      "cell_type": "code",
      "source": [
        "from statsmodels.stats.power import TTestIndPower\n",
        "\n",
        "effect_size = (90 - 30) / 90   # размер эффекта\n",
        "alpha = 0.05   # уровень значимости\n",
        "power = 0.9   # мощность\n",
        "\n",
        "power_analysis = TTestIndPower()\n",
        "\n",
        "sample_size = power_analysis.solve_power(\n",
        "    effect_size=effect_size,\n",
        "    alpha=alpha,\n",
        "    power=power,\n",
        "    alternative='larger'\n",
        ")\n",
        "\n",
        "print(\"Необходимая численность групп: {:.0f}\".format(sample_size))\n"
      ],
      "metadata": {
        "colab": {
          "base_uri": "https://localhost:8080/"
        },
        "id": "N-vvalMyacFr",
        "outputId": "ef851721-3618-43e5-ba5e-af65074d144d"
      },
      "execution_count": 3,
      "outputs": [
        {
          "output_type": "stream",
          "name": "stdout",
          "text": [
            "Необходимая численность групп: 39\n"
          ]
        }
      ]
    },
    {
      "cell_type": "markdown",
      "source": [
        "# 3\n",
        "Из 10 билетов выигрышными являются 2. Чему равна вероятность \n",
        "того, что среди взятых наудачу 5 билетов два выигрышных?"
      ],
      "metadata": {
        "id": "PjOtjlRfauAI"
      }
    },
    {
      "cell_type": "markdown",
      "source": [
        "Для решения данной задачи можно использовать формулу Бернулли. Пусть p - вероятность выигрыша одного билета, тогда q = 1-p - вероятность проигрыша одного билета. Тогда вероятность того, что среди 5 билетов ровно 2 выигрышных, будет выглядеть следующим образом:\n",
        "\n",
        "P = C(5,2) * p^2 * q^(5-2), где C(5,2) - количество способов выбрать 2 билета из 5.\n",
        "\n",
        "Подставляя известные значения, получим:\n",
        "\n",
        "P = C(5,2) * (2/10)^2 * (8/10)^3 = 0.3024\n",
        "\n",
        "Таким образом, вероятность того, что среди взятых наудачу 5 билетов два выигрышных равна 0.3024 или около 30,24%"
      ],
      "metadata": {
        "id": "THPsqpxQa2Yb"
      }
    },
    {
      "cell_type": "code",
      "source": [
        "import math\n",
        "\n",
        "p = 0.2  # вероятность выигрыша в одном билете\n",
        "q = 0.8  # вероятность проигрыша в одном билете\n",
        "k = 2  # количество выигрышных билетов из 10\n",
        "n = 5  # количество билетов, которые мы выбираем наудачу\n",
        "\n",
        "P = math.comb(n, k) * p**k * q**(n-k)  # формула Бернулли\n",
        "\n",
        "print(round(P, 4))  # выводим результат с округлением до 4 знаков после запятой\n"
      ],
      "metadata": {
        "colab": {
          "base_uri": "https://localhost:8080/"
        },
        "id": "pZhvU0tJbFeK",
        "outputId": "f7859f8a-b1dc-4275-ff80-b0a402943cf8"
      },
      "execution_count": 4,
      "outputs": [
        {
          "output_type": "stream",
          "name": "stdout",
          "text": [
            "0.2048\n"
          ]
        }
      ]
    }
  ]
}